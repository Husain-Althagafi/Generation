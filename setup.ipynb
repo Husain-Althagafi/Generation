{
 "cells": [
  {
   "cell_type": "code",
   "execution_count": null,
   "id": "b0fbbc78",
   "metadata": {
    "vscode": {
     "languageId": "plaintext"
    }
   },
   "outputs": [],
   "source": [
    "uv pip install datasets --upgrade --system\n",
    "uv pip install pycocotools scikit-learn mne polars[gpu] open_clip_torch einops wandb braindecode reformer_pytorch --system\n",
    "uv pip install numpy==2.1.2 --system\n",
    "uv pip install cudf-cu12 --system\n",
    "uv pip install scipy==1.11.2 --system"
   ]
  },
  {
   "cell_type": "code",
   "execution_count": null,
   "id": "34ceef4b",
   "metadata": {
    "vscode": {
     "languageId": "plaintext"
    }
   },
   "outputs": [],
   "source": [
    "uv pip install diffusers==0.24.0 --system\n",
    "uv pip install numpy==2.1.2 --system\n",
    "uv pip install cudf-cu12 --system1\n",
    "uv pip install scipy==1.11.2 --system\n",
    "uv pip install huggingface-hub==0.25.0 --system"
   ]
  },
  {
   "cell_type": "code",
   "execution_count": null,
   "id": "24f4ffaf",
   "metadata": {
    "vscode": {
     "languageId": "plaintext"
    }
   },
   "outputs": [],
   "source": [
    "uv pip install transformers==4.34.0 --system"
   ]
  },
  {
   "cell_type": "code",
   "execution_count": null,
   "id": "7706295f",
   "metadata": {
    "vscode": {
     "languageId": "plaintext"
    }
   },
   "outputs": [],
   "source": [
    "pip install git+https://github.com/openai/CLIP.git"
   ]
  },
  {
   "cell_type": "code",
   "execution_count": null,
   "id": "71c8987a",
   "metadata": {
    "vscode": {
     "languageId": "plaintext"
    }
   },
   "outputs": [],
   "source": []
  }
 ],
 "metadata": {
  "language_info": {
   "name": "python"
  }
 },
 "nbformat": 4,
 "nbformat_minor": 5
}
